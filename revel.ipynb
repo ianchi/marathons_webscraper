{
 "cells": [
  {
   "cell_type": "code",
   "execution_count": null,
   "metadata": {},
   "outputs": [],
   "source": [
    "import requests\n",
    "import pandas as pd\n",
    "from bs4 import BeautifulSoup\n",
    "from IPython.display import clear_output, display\n",
    "from io import StringIO"
   ]
  },
  {
   "cell_type": "code",
   "execution_count": null,
   "metadata": {},
   "outputs": [],
   "source": [
    "CHARLESTON_2024=\"https://www.runrevel.com/rmc/results?sort=&race=166959&date=&event=Marathon&gender=&division=&search=&loc_167831=&page_167831={}&size_167831=1000\"\n",
    "CHARLESTON_2023=\"https://www.runrevel.com/rmc/results?sort=&race=166804&date=&event=Marathon&gender=&division=&search=&loc_167206=&page_167206={}&size_167206=1000\"\n",
    "BIG_BEAR_2022 = \"https://www.runrevel.com/rbb/results?sort=&race=166771&date=&event=Marathon&gender=&division=&search=&loc_167125=&page_167125={}&size_167125=1000\""
   ]
  },
  {
   "cell_type": "code",
   "execution_count": null,
   "metadata": {},
   "outputs": [],
   "source": [
    "URL = BIG_BEAR_2022\n",
    "YEAR = 2022\n",
    "NAME = \"bigbear_\" + str(YEAR)\n",
    "PAGE = 167125\n"
   ]
  },
  {
   "cell_type": "code",
   "execution_count": null,
   "metadata": {},
   "outputs": [],
   "source": [
    "df_final = None\n",
    "\n",
    "page_number = 1\n",
    "\n",
    "while True:\n",
    "    clear_output()\n",
    "    display(f\"Retrieving page {page_number}\")\n",
    "\n",
    "\n",
    "    res = requests.get(URL.format(page_number))\n",
    "    page = BeautifulSoup(res.text)\n",
    "    pager = page.find('select', id=f'page_{PAGE}')\n",
    "    tbl = pager.parent.parent.find_next_sibling('table', id=\"roster\")\n",
    "    if tbl is None:\n",
    "        break\n",
    "    df=pd.read_html(StringIO(str(tbl)))[0]\n",
    "\n",
    "    if df_final is None:\n",
    "        df_final = df\n",
    "    else:\n",
    "        df_final = pd.concat([df_final, df])\n",
    "\n",
    "    page_number += 1\n",
    "\n",
    "    pages = pager.find_all('option')\n",
    "    if page_number> len(pages):\n",
    "        break\n",
    "\n",
    "df_final.shape"
   ]
  },
  {
   "cell_type": "code",
   "execution_count": null,
   "metadata": {},
   "outputs": [],
   "source": [
    "df_final.reset_index(drop=True, inplace=True)"
   ]
  },
  {
   "cell_type": "code",
   "execution_count": null,
   "metadata": {},
   "outputs": [],
   "source": [
    "\n",
    "df_final.to_csv(NAME + '_full.csv')\n",
    "df_final[['Gender','Age','Chip Time']].to_csv(NAME + '.csv')"
   ]
  },
  {
   "cell_type": "code",
   "execution_count": null,
   "metadata": {},
   "outputs": [],
   "source": [
    "df_final.pivot_table(index='Age', columns='Gender', aggfunc='size', fill_value=0)"
   ]
  }
 ],
 "metadata": {
  "kernelspec": {
   "display_name": "webscrapping",
   "language": "python",
   "name": "python3"
  },
  "language_info": {
   "codemirror_mode": {
    "name": "ipython",
    "version": 3
   },
   "file_extension": ".py",
   "mimetype": "text/x-python",
   "name": "python",
   "nbconvert_exporter": "python",
   "pygments_lexer": "ipython3",
   "version": "3.1.-1"
  }
 },
 "nbformat": 4,
 "nbformat_minor": 2
}
