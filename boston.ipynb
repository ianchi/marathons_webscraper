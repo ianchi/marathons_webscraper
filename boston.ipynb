{
 "cells": [
  {
   "cell_type": "code",
   "execution_count": null,
   "metadata": {},
   "outputs": [],
   "source": [
    "import requests\n",
    "import pandas as pd\n",
    "from bs4 import BeautifulSoup\n",
    "from IPython.display import clear_output, display"
   ]
  },
  {
   "cell_type": "code",
   "execution_count": null,
   "metadata": {},
   "outputs": [],
   "source": [
    "\n",
    "\n",
    "URL = \"https://results.baa.org/{}/?page={}&event=R&event_main_group=runner&pid=list&search%5Bsex%5D={}&search%5Bage_class%5D={}&num_results=1000\"\n",
    "YEAR= 2023\n",
    "NAME = \"boston\"\n",
    "\n",
    "SEX = ['M', 'W', 'X'] \n",
    "AGE = {\n",
    "    \"1\":\"18-39\",\"2\":\"40-44\",\"9\":\"45-49\",\"3\":\"50-54\",\"10\":\"55-59\",\"4\":\"60-64\",\"11\":\"65-69\",\"8\":\"70-74\",\"12\":\"75-79\",\"13\":\"80+\"\n",
    "}\n"
   ]
  },
  {
   "cell_type": "code",
   "execution_count": null,
   "metadata": {},
   "outputs": [],
   "source": [
    "df_final = None\n",
    "\n",
    "for sex in SEX:\n",
    "    for (key, age) in AGE.items():\n",
    "            \n",
    "        page_number = 1\n",
    "\n",
    "        while True:\n",
    "            clear_output()\n",
    "            display(f\"Retrieving page {page_number} for {sex} {age}\")\n",
    "\n",
    "            res = requests.get(URL.format(YEAR, page_number, sex, key))\n",
    "            page = BeautifulSoup(res.text)\n",
    "\n",
    "            rows = page.select(\"li.list-group-item\")\n",
    "\n",
    "\n",
    "            if len(rows) == 3 and rows[-1].select(\"div.alert-info\"):\n",
    "                break\n",
    "\n",
    "            # get time\n",
    "            rows2 = [r.select(\"div.type-time\")[-2].find(string=True, recursive=False) for r in rows[2:]]\n",
    "\n",
    "            df = pd.DataFrame(rows2, columns=['time'])\n",
    "            df.insert(0, \"Age\", age)\n",
    "            df.insert(0, \"Sex\", sex)\n",
    "\n",
    "            if df_final is None:\n",
    "                df_final = df\n",
    "            else:\n",
    "                df_final = pd.concat([df_final, df])\n",
    "\n",
    "            page_number += 1\n",
    "\n",
    "df_final.shape"
   ]
  },
  {
   "cell_type": "code",
   "execution_count": null,
   "metadata": {},
   "outputs": [],
   "source": [
    "df_final.head(4)"
   ]
  },
  {
   "cell_type": "code",
   "execution_count": null,
   "metadata": {},
   "outputs": [],
   "source": [
    "\n",
    "df_final.to_csv(f\"{NAME}_{YEAR}.csv\")"
   ]
  },
  {
   "cell_type": "code",
   "execution_count": null,
   "metadata": {},
   "outputs": [],
   "source": [
    "df_final.pivot_table(index='Age', columns='Sex', aggfunc='count', fill_value=0)"
   ]
  }
 ],
 "metadata": {
  "kernelspec": {
   "display_name": "webscrapping",
   "language": "python",
   "name": "python3"
  },
  "language_info": {
   "codemirror_mode": {
    "name": "ipython",
    "version": 3
   },
   "file_extension": ".py",
   "mimetype": "text/x-python",
   "name": "python",
   "nbconvert_exporter": "python",
   "pygments_lexer": "ipython3",
   "version": "3.12.0"
  }
 },
 "nbformat": 4,
 "nbformat_minor": 2
}
