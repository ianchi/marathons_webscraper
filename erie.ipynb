{
 "cells": [
  {
   "cell_type": "code",
   "execution_count": null,
   "metadata": {},
   "outputs": [],
   "source": [
    "import requests\n",
    "import pandas as pd\n",
    "from bs4 import BeautifulSoup\n",
    "from io import StringIO"
   ]
  },
  {
   "cell_type": "code",
   "execution_count": null,
   "metadata": {},
   "outputs": [],
   "source": [
    "URL_2023 = \"https://www.runhigh.com/2023RESULTS/R091023ABAWARDS.html\"\n",
    "URL_2022 =\"https://www.runhigh.com/2022RESULTS/R091122ABAWARDS.html\"\n",
    "\n",
    "URL = URL_2022\n",
    "YEAR = 2022\n",
    "NAME = \"Erie\""
   ]
  },
  {
   "cell_type": "code",
   "execution_count": null,
   "metadata": {},
   "outputs": [],
   "source": [
    "res = requests.get(URL)\n",
    "page = BeautifulSoup(res.text)"
   ]
  },
  {
   "cell_type": "code",
   "execution_count": null,
   "metadata": {},
   "outputs": [],
   "source": [
    "tbl=page.select(\"pre\")\n",
    "\n",
    "colspecs = [(0,17), (0, 5), (5, 12), (12, 17), (17, 59), (59, 67), (68, 77), (78, 87), (88, 97), (98, 107), (108, 117)]\n",
    "\n",
    "\n",
    "df=pd.read_fwf(StringIO(str(tbl[0].text)), colspecs=colspecs, header=None, names=['Category', 'ID', 'Place', 'OverallPlace', 'Finisher', '10K_Time', '13M_Time', '20M_Time', 'Clock_Time', 'Net_Time', 'Pace'], skiprows=3)\n"
   ]
  },
  {
   "cell_type": "code",
   "execution_count": null,
   "metadata": {},
   "outputs": [],
   "source": [
    "df.loc[df.Finisher.notna(),[\"Category\"]]=pd.NA\n",
    "df.Category.ffill(inplace=True)\n",
    "df.Net_Time.bfill(inplace=True)"
   ]
  },
  {
   "cell_type": "code",
   "execution_count": null,
   "metadata": {},
   "outputs": [],
   "source": []
  },
  {
   "cell_type": "code",
   "execution_count": null,
   "metadata": {},
   "outputs": [],
   "source": [
    "data=df.Finisher.str.split(',', expand=True)\n",
    "df['Name']= data[0]\n",
    "df['Age']=data[1]\n",
    "df[\"Sex\"]=df.Category.str.extract(\"(Men|Women|Nonbinaries)\")\n"
   ]
  },
  {
   "cell_type": "code",
   "execution_count": null,
   "metadata": {},
   "outputs": [],
   "source": [
    "df=df[df.Pace.notna() & (df.Pace!=\"PACE\") & df.Finisher.notna()]\n",
    "df.reset_index(drop=True, inplace=True)\n",
    "df[['Category','Sex','Age','Net_Time']].to_csv(f\"{NAME}_{YEAR}.csv\")"
   ]
  },
  {
   "cell_type": "code",
   "execution_count": null,
   "metadata": {},
   "outputs": [],
   "source": [
    "df.Category.value_counts()"
   ]
  },
  {
   "cell_type": "code",
   "execution_count": null,
   "metadata": {},
   "outputs": [],
   "source": [
    "df.Category.str.extract(\"(Men|Women|Nonbinaries)\")"
   ]
  }
 ],
 "metadata": {
  "kernelspec": {
   "display_name": "webscrapping",
   "language": "python",
   "name": "python3"
  },
  "language_info": {
   "codemirror_mode": {
    "name": "ipython",
    "version": 3
   },
   "file_extension": ".py",
   "mimetype": "text/x-python",
   "name": "python",
   "nbconvert_exporter": "python",
   "pygments_lexer": "ipython3",
   "version": "3.12.0"
  }
 },
 "nbformat": 4,
 "nbformat_minor": 2
}
