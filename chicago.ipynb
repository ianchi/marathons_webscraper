{
 "cells": [
  {
   "cell_type": "code",
   "execution_count": null,
   "metadata": {},
   "outputs": [],
   "source": [
    "\n",
    "LONDON_URL=\"https://results.tcslondonmarathon.com/2024/?page={}&event=MAS&num_results=1000&pid=list&pidp=start&search%5Bsex%5D={}&search%5Bage_class%5D=%25\"\n",
    "CHICAGO_URL= \"https://results.chicagomarathon.com/2023/?page={}&event=MAR&num_results=1000&pid=list&pidp=start&search%5Bsex%5D={}&search%5Bage_class%5D=%25\""
   ]
  },
  {
   "cell_type": "code",
   "execution_count": null,
   "metadata": {},
   "outputs": [],
   "source": [
    "import requests\n",
    "import pandas as pd\n",
    "from bs4 import BeautifulSoup"
   ]
  },
  {
   "cell_type": "code",
   "execution_count": null,
   "metadata": {},
   "outputs": [],
   "source": [
    "df_final = None\n",
    "\n",
    "for sex in ['M', 'W', 'D']:\n",
    "    page_number=1\n",
    "\n",
    "    while True:\n",
    "        print(f\"Retrieving page {page_number} for sex {sex}\")\n",
    "        res = requests.get(CHICAGO_URL.format(page_number, sex))\n",
    "        page = BeautifulSoup(res.text)\n",
    "\n",
    "        rows=page.find_all(\"li\", class_='row')\n",
    "\n",
    "        if len(rows)==2 and rows[1].find('div', class_='alert'):\n",
    "            break\n",
    "\n",
    "        rows2 = [r.find_all(\"div\", class_='list-field') for r in rows]\n",
    "\n",
    "        df = pd.DataFrame([[d.text for d in data] for data in rows2])\n",
    "        df.insert(0,'Sex',sex)\n",
    "\n",
    "        if df_final is None:\n",
    "            df_final = df\n",
    "        else:\n",
    "            df_final = pd.concat([df_final, df])\n",
    "\n",
    "        page_number+=1\n",
    "\n",
    "\n",
    "\n"
   ]
  },
  {
   "cell_type": "code",
   "execution_count": null,
   "metadata": {},
   "outputs": [],
   "source": [
    "df_final.shape"
   ]
  },
  {
   "cell_type": "code",
   "execution_count": null,
   "metadata": {},
   "outputs": [],
   "source": [
    "df_final.head()"
   ]
  },
  {
   "cell_type": "code",
   "execution_count": null,
   "metadata": {},
   "outputs": [],
   "source": [
    "\n",
    "df_final[3] = df_final[3].str.replace('Division','')\n",
    "df_final[2] = df_final[2].str.replace('BIB','') \n",
    "\n",
    "df_final[5] = df_final[5].str.replace('HALF','')\n",
    "df_final[6] = df_final[6].str.replace('Finish','')"
   ]
  },
  {
   "cell_type": "code",
   "execution_count": null,
   "metadata": {},
   "outputs": [],
   "source": [
    "df_final=df_final.reset_index(drop=True)\n",
    "df_final=df_final[df_final[3]!='BIBBIB']"
   ]
  },
  {
   "cell_type": "code",
   "execution_count": null,
   "metadata": {},
   "outputs": [],
   "source": [
    "df_final[['Sex',3,6]].to_csv('chicago_2023.csv', header=['sex','age','time'],index=False)"
   ]
  },
  {
   "cell_type": "code",
   "execution_count": null,
   "metadata": {},
   "outputs": [],
   "source": [
    "df=df_final[['Sex',3,6]]\n",
    "df.columns = ['sex','age','time']"
   ]
  },
  {
   "cell_type": "code",
   "execution_count": null,
   "metadata": {},
   "outputs": [],
   "source": [
    "df_final[df_final[3]=='–']"
   ]
  },
  {
   "cell_type": "code",
   "execution_count": null,
   "metadata": {},
   "outputs": [],
   "source": [
    "df.groupby('age').count()"
   ]
  }
 ],
 "metadata": {
  "kernelspec": {
   "display_name": "webscrapping",
   "language": "python",
   "name": "python3"
  },
  "language_info": {
   "codemirror_mode": {
    "name": "ipython",
    "version": 3
   },
   "file_extension": ".py",
   "mimetype": "text/x-python",
   "name": "python",
   "nbconvert_exporter": "python",
   "pygments_lexer": "ipython3",
   "version": "3.12.0"
  }
 },
 "nbformat": 4,
 "nbformat_minor": 2
}
