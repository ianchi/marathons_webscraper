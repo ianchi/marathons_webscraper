{
 "cells": [
  {
   "cell_type": "code",
   "execution_count": null,
   "metadata": {},
   "outputs": [],
   "source": [
    "import requests\n",
    "import pandas as pd\n",
    "from IPython.display import clear_output, display\n",
    "import datetime"
   ]
  },
  {
   "cell_type": "code",
   "execution_count": null,
   "metadata": {},
   "outputs": [],
   "source": [
    "\n",
    "URL = \"https://5b8btxj9jd.execute-api.us-west-2.amazonaws.com/public/results?rid=129769&eid=41659&mid=1291&page={}&pageSize=1000sort=&category=&gender=&searchData=\"\n"
   ]
  },
  {
   "cell_type": "code",
   "execution_count": null,
   "metadata": {},
   "outputs": [],
   "source": [
    "res = requests.get(URL.format(4))\n",
    "data=res.json()\n"
   ]
  },
  {
   "cell_type": "code",
   "execution_count": null,
   "metadata": {},
   "outputs": [],
   "source": [
    "data['results'][4]\n",
    "\n",
    "# country: lo3\n",
    "# gender_age: pc\n",
    "# gender? pg (m,f,x)\n",
    "# bib: bib\n",
    "# runner: dn\n",
    "# overall pos: rtro\n",
    "# official time: ot (in milliseconds)"
   ]
  },
  {
   "cell_type": "code",
   "execution_count": null,
   "metadata": {},
   "outputs": [],
   "source": [
    "(datetime.datetime(1970,1,1) + datetime.timedelta(milliseconds=data['results'][4]['ot'])).time().isoformat(timespec='seconds')\n"
   ]
  },
  {
   "cell_type": "code",
   "execution_count": null,
   "metadata": {},
   "outputs": [],
   "source": [
    "pg_index=0\n",
    "\n",
    "count=0\n",
    "\n",
    "df_final=None\n",
    "\n",
    "\n",
    "columns = ['bib', 'lo3', 'pg', 'pc', 'dn', 'rtro', 'ot']\n",
    "names = ['bib', 'country', 'gender', 'gender_age', 'name', 'position', 'time']\n",
    "# bib: bib\n",
    "# country: lo3\n",
    "# gender? pg (m,f,x)\n",
    "# gender_age: pc\n",
    "# runner: dn\n",
    "# overall pos: rtro\n",
    "# official time: ot (in milliseconds)\n",
    "\n",
    "\n",
    "while True:\n",
    "    res = requests.get(URL.format(pg_index))\n",
    "    data=res.json()\n",
    "    \n",
    "    if 'results' not in data or len(data['results'])==0:\n",
    "        break\n",
    "    count+=len(data['results'])\n",
    "    \n",
    "    clear_output()\n",
    "    display(f\"{pg_index} - {count}\")\n",
    "\n",
    "    df=pd.DataFrame(data['results'], columns=columns)\n",
    "\n",
    "    if df_final is None:\n",
    "        df_final=df\n",
    "    else:\n",
    "        df_final=pd.concat([df_final, df])\n",
    "\n",
    "    pg_index+=1\n",
    "\n",
    "df_final.columns = names\n",
    "\n",
    "df_final.shape"
   ]
  },
  {
   "cell_type": "code",
   "execution_count": null,
   "metadata": {},
   "outputs": [],
   "source": [
    "df_final.reset_index(inplace=True)"
   ]
  },
  {
   "cell_type": "code",
   "execution_count": null,
   "metadata": {},
   "outputs": [],
   "source": [
    "df_final= df_final[df_final['position'].notna()]"
   ]
  },
  {
   "cell_type": "code",
   "execution_count": null,
   "metadata": {},
   "outputs": [],
   "source": [
    "df_final['time']=df_final['time'].apply(lambda row: row and (datetime.datetime(1970,1,1) + datetime.timedelta(milliseconds=int(row))).time().isoformat(timespec='seconds'))\n"
   ]
  },
  {
   "cell_type": "code",
   "execution_count": null,
   "metadata": {},
   "outputs": [],
   "source": [
    "df_final[(df_final['gender_age'].str[0:1] != df_final['gender'])]"
   ]
  },
  {
   "cell_type": "code",
   "execution_count": null,
   "metadata": {},
   "outputs": [],
   "source": [
    "df_final['age']=df_final['gender_age'].str.replace(r\".?(\\d.*)\", '\\\\1',regex=True)"
   ]
  },
  {
   "cell_type": "code",
   "execution_count": null,
   "metadata": {},
   "outputs": [],
   "source": [
    "df_final.head()"
   ]
  },
  {
   "cell_type": "code",
   "execution_count": null,
   "metadata": {},
   "outputs": [],
   "source": [
    "#res = requests.post(URL, json=qry, headers=headers)\n",
    "df_final.to_csv(\"toronto_full.csv\")"
   ]
  },
  {
   "cell_type": "code",
   "execution_count": null,
   "metadata": {},
   "outputs": [],
   "source": [
    "df_final[['country','gender','age','time']].to_csv(\"toronto.csv\")"
   ]
  },
  {
   "cell_type": "code",
   "execution_count": null,
   "metadata": {},
   "outputs": [],
   "source": [
    "df_final[['gender','age']].groupby('gender', dropna=False).count()"
   ]
  },
  {
   "cell_type": "code",
   "execution_count": null,
   "metadata": {},
   "outputs": [],
   "source": [
    "df_final[df_final.sex.isna()]"
   ]
  }
 ],
 "metadata": {
  "kernelspec": {
   "display_name": "webscrapping",
   "language": "python",
   "name": "python3"
  },
  "language_info": {
   "codemirror_mode": {
    "name": "ipython",
    "version": 3
   },
   "file_extension": ".py",
   "mimetype": "text/x-python",
   "name": "python",
   "nbconvert_exporter": "python",
   "pygments_lexer": "ipython3",
   "version": "3.12.0"
  }
 },
 "nbformat": 4,
 "nbformat_minor": 2
}
