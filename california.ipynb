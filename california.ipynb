{
 "cells": [
  {
   "cell_type": "code",
   "execution_count": null,
   "metadata": {},
   "outputs": [],
   "source": [
    "import requests\n",
    "import pandas as pd\n",
    "from IPython.display import clear_output, display\n",
    "import datetime"
   ]
  },
  {
   "cell_type": "code",
   "execution_count": null,
   "metadata": {},
   "outputs": [],
   "source": [
    "URL = \"https://results.athlinks.com/event/1067161?eventCourseId=2421871&divisionId=&intervalId=&from={}&limit={}\"\n"
   ]
  },
  {
   "cell_type": "code",
   "execution_count": null,
   "metadata": {},
   "outputs": [],
   "source": [
    " res = requests.get(URL.format(1, 100))\n",
    "data = res.json()\n",
    "data = data[0][\"interval\"][\"intervalResults\"]"
   ]
  },
  {
   "cell_type": "code",
   "execution_count": null,
   "metadata": {},
   "outputs": [],
   "source": [
    "data["
   ]
  },
  {
   "cell_type": "code",
   "execution_count": null,
   "metadata": {},
   "outputs": [],
   "source": [
    "pg_index = 1\n",
    "\n",
    "count = 0\n",
    "\n",
    "df_final = None\n",
    "\n",
    "while True:\n",
    "    res = requests.get(URL.format(count + 1, 100))\n",
    "    data = res.json()\n",
    "\n",
    "    if len(data) == 0 or len(data[0][\"interval\"][\"intervalResults\"]) == 0:\n",
    "        break\n",
    "    data = data[0][\"interval\"][\"intervalResults\"]\n",
    "\n",
    "    count += len(data)\n",
    "\n",
    "    clear_output()\n",
    "    display(f\"{pg_index} - {count}\")\n",
    "\n",
    "    df = pd.DataFrame(data)\n",
    "\n",
    "    if df_final is None:\n",
    "        df_final = df\n",
    "    else:\n",
    "        df_final = pd.concat([df_final, df])\n",
    "\n",
    "    pg_index += 1"
   ]
  },
  {
   "cell_type": "code",
   "execution_count": null,
   "metadata": {},
   "outputs": [],
   "source": [
    "data[0]"
   ]
  },
  {
   "cell_type": "code",
   "execution_count": null,
   "metadata": {},
   "outputs": [],
   "source": [
    "df_final.reset_index(inplace=True)\n",
    "df_final.head()"
   ]
  },
  {
   "cell_type": "code",
   "execution_count": null,
   "metadata": {},
   "outputs": [],
   "source": [
    "df_final['full_time'] =df_final['time'].apply(lambda row: (datetime.datetime(1970,1,1) + datetime.timedelta(milliseconds=row['timeInMillis'])).time().isoformat(timespec='seconds'))"
   ]
  },
  {
   "cell_type": "code",
   "execution_count": null,
   "metadata": {},
   "outputs": [],
   "source": [
    "df_final.head()"
   ]
  },
  {
   "cell_type": "code",
   "execution_count": null,
   "metadata": {},
   "outputs": [],
   "source": [
    "df_final['full_time']=df_final['time'].apply(lambda row: (datetime.datetime(1970,1,1) + datetime.timedelta(milliseconds=row['timeInMillis'])).time().isoformat(timespec='seconds'))\n",
    "\n",
    "df_final=df_final.drop(['pace', 'time'], axis=1)"
   ]
  },
  {
   "cell_type": "code",
   "execution_count": null,
   "metadata": {},
   "outputs": [],
   "source": [
    "df_final.to_csv('california_full.csv')"
   ]
  },
  {
   "cell_type": "code",
   "execution_count": null,
   "metadata": {},
   "outputs": [],
   "source": [
    "df_final[['country','gender','age','full_time']].to_csv(\"california.csv\")"
   ]
  }
 ],
 "metadata": {
  "kernelspec": {
   "display_name": "webscrapping",
   "language": "python",
   "name": "python3"
  },
  "language_info": {
   "codemirror_mode": {
    "name": "ipython",
    "version": 3
   },
   "file_extension": ".py",
   "mimetype": "text/x-python",
   "name": "python",
   "nbconvert_exporter": "python",
   "pygments_lexer": "ipython3",
   "version": "3.12.0"
  }
 },
 "nbformat": 4,
 "nbformat_minor": 2
}
