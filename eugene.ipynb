{
 "cells": [
  {
   "cell_type": "code",
   "execution_count": null,
   "metadata": {},
   "outputs": [],
   "source": [
    "import requests\n",
    "import pandas as pd\n",
    "from IPython.display import clear_output, display\n",
    "import datetime"
   ]
  },
  {
   "cell_type": "code",
   "execution_count": null,
   "metadata": {},
   "outputs": [],
   "source": [
    "\n",
    "URL_2022 = \"https://runsignup.com/Race/Results/Simple/146129?resultSetId=447468&page={}&num=1000&search=\"\n",
    "URL_2023 = \"https://runsignup.com/Race/Results/Simple/146129?resultSetId=374054&page={}&num=1000&search=\"\n",
    "\n",
    "URL=URL_2022\n",
    "YEAR=2022"
   ]
  },
  {
   "cell_type": "code",
   "execution_count": null,
   "metadata": {},
   "outputs": [],
   "source": [
    "pg_index=1\n",
    "\n",
    "count=0\n",
    "\n",
    "df_final=None\n",
    "\n",
    "\n",
    "\n",
    "while True:\n",
    "    res = requests.get(URL.format(pg_index),headers={'Accept':'application/json'})\n",
    "    data=res.json()\n",
    "    \n",
    "    if 'resultSet' not in data or len(data['resultSet']['results'])==0:\n",
    "        break\n",
    "    count+=len(data['resultSet']['results'])\n",
    "    \n",
    "    clear_output()\n",
    "    display(f\"{pg_index} - {count}\")\n",
    "\n",
    "    columns=[c['key'] for c in data['headings']]\n",
    "    df=pd.DataFrame(data['resultSet']['results'], columns=columns)\n",
    "\n",
    "    if df_final is None:\n",
    "        df_final=df\n",
    "    else:\n",
    "        df_final=pd.concat([df_final, df])\n",
    "\n",
    "    pg_index+=1\n",
    "\n",
    "df_final.shape"
   ]
  },
  {
   "cell_type": "code",
   "execution_count": null,
   "metadata": {},
   "outputs": [],
   "source": [
    "df_final.reset_index(inplace=True)"
   ]
  },
  {
   "cell_type": "code",
   "execution_count": null,
   "metadata": {},
   "outputs": [],
   "source": [
    "df_final.head()"
   ]
  },
  {
   "cell_type": "code",
   "execution_count": null,
   "metadata": {},
   "outputs": [],
   "source": [
    "#res = requests.post(URL, json=qry, headers=headers)\n",
    "df_final.to_csv(f\"eugene_{YEAR}_full.csv\")"
   ]
  },
  {
   "cell_type": "code",
   "execution_count": null,
   "metadata": {},
   "outputs": [],
   "source": [
    "df_final[['gender','age','chip_time']].to_csv(f\"eugene_{YEAR}.csv\")"
   ]
  },
  {
   "cell_type": "code",
   "execution_count": null,
   "metadata": {},
   "outputs": [],
   "source": [
    "df_final[['gender','age']].groupby('gender', dropna=False).count()"
   ]
  }
 ],
 "metadata": {
  "kernelspec": {
   "display_name": "webscrapping",
   "language": "python",
   "name": "python3"
  },
  "language_info": {
   "codemirror_mode": {
    "name": "ipython",
    "version": 3
   },
   "file_extension": ".py",
   "mimetype": "text/x-python",
   "name": "python",
   "nbconvert_exporter": "python",
   "pygments_lexer": "ipython3",
   "version": "3.12.0"
  }
 },
 "nbformat": 4,
 "nbformat_minor": 2
}
