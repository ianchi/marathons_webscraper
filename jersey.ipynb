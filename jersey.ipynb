{
 "cells": [
  {
   "cell_type": "code",
   "execution_count": null,
   "metadata": {},
   "outputs": [],
   "source": [
    "import requests\n",
    "import pandas as pd\n",
    "from IPython.display import clear_output, display\n",
    "import datetime"
   ]
  },
  {
   "cell_type": "code",
   "execution_count": null,
   "metadata": {},
   "outputs": [],
   "source": [
    "\n",
    "\n",
    "URL_2024 = \"https://www.jerseycitymarathon.com/Race/Results/Simple/129526?resultSetId=450035&page={}&num=1000&search=\"\n",
    "URL_2023 = \"https://www.jerseycitymarathon.com/Race/Results/Simple/129526?resultSetId=375787&page={}&num=1000&search=\"\n",
    "\n",
    "URL = URL_2023\n",
    "YEAR=2023\n",
    "\n",
    "NAME = \"jersey\""
   ]
  },
  {
   "cell_type": "code",
   "execution_count": null,
   "metadata": {},
   "outputs": [],
   "source": [
    "pg_index = 1\n",
    "\n",
    "count = 0\n",
    "\n",
    "df_final = None\n",
    "\n",
    "columns = [\n",
    "    \"profile_image_url\",\n",
    "    \"gender\",\n",
    "    \"age\",\n",
    "    \"state\",\n",
    "    \"bib_num\",\n",
    "    \"race_placement\",\n",
    "    \"name\",\n",
    "    \"clock_time\",\n",
    "    \"chip_time\",\n",
    "]\n",
    "\n",
    "while True:\n",
    "    res = requests.get(URL.format(pg_index),headers={\"accept\":\"application/json, */*; q=0.01\"})\n",
    "    data = res.json()\n",
    "\n",
    "    if \"resultSet\" not in data or len(data[\"resultSet\"][\"results\"]) == 0:\n",
    "        break\n",
    "    count += len(data[\"resultSet\"][\"results\"])\n",
    "\n",
    "    clear_output()\n",
    "    display(f\"{pg_index} - {count}\")\n",
    "\n",
    "    df = pd.DataFrame(data[\"resultSet\"][\"results\"], columns=columns)\n",
    "\n",
    "    if df_final is None:\n",
    "        df_final = df\n",
    "    else:\n",
    "        df_final = pd.concat([df_final, df])\n",
    "\n",
    "    pg_index += 1\n",
    "\n",
    "df_final.shape"
   ]
  },
  {
   "cell_type": "code",
   "execution_count": null,
   "metadata": {},
   "outputs": [],
   "source": [
    "df_final.reset_index(inplace=True)\n",
    "df_final.head(3)"
   ]
  },
  {
   "cell_type": "code",
   "execution_count": null,
   "metadata": {},
   "outputs": [],
   "source": [
    "\n",
    "df_final.to_csv(f\"{NAME}_{YEAR}_full.csv\")"
   ]
  },
  {
   "cell_type": "code",
   "execution_count": null,
   "metadata": {},
   "outputs": [],
   "source": [
    "df_final[['age','gender', 'chip_time']].to_csv(f\"{NAME}_{YEAR}.csv\")"
   ]
  }
 ],
 "metadata": {
  "kernelspec": {
   "display_name": "webscrapping",
   "language": "python",
   "name": "python3"
  },
  "language_info": {
   "codemirror_mode": {
    "name": "ipython",
    "version": 3
   },
   "file_extension": ".py",
   "mimetype": "text/x-python",
   "name": "python",
   "nbconvert_exporter": "python",
   "pygments_lexer": "ipython3",
   "version": "3.12.0"
  }
 },
 "nbformat": 4,
 "nbformat_minor": 2
}
