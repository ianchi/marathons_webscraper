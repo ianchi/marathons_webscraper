{
 "cells": [
  {
   "cell_type": "code",
   "execution_count": null,
   "metadata": {},
   "outputs": [],
   "source": [
    "import requests\n",
    "import pandas as pd\n",
    "from IPython.display import clear_output, display\n",
    "import datetime"
   ]
  },
  {
   "cell_type": "code",
   "execution_count": null,
   "metadata": {},
   "outputs": [],
   "source": [
    "URL_2023 = \"https://results.athlinks.com/event/1058753?eventCourseId=2393408&divisionId=&intervalId=&from={}&limit={}\"\n",
    "URL_2022 = \"https://results.athlinks.com/event/1035509?eventCourseId=2308508&divisionId=&intervalId=&from={}&limit={}\"\n",
    "URL=URL_2022\n",
    "\n",
    "NAME='stgeorge'\n",
    "YEAR=2022"
   ]
  },
  {
   "cell_type": "code",
   "execution_count": null,
   "metadata": {},
   "outputs": [],
   "source": [
    "pg_index = 1\n",
    "\n",
    "count = 0\n",
    "\n",
    "df_final = None\n",
    "\n",
    "while True:\n",
    "    res = requests.get(URL.format(count , 100))\n",
    "    data = res.json()\n",
    "\n",
    "    if len(data) == 0 or len(data[0][\"interval\"][\"intervalResults\"]) == 0:\n",
    "        break\n",
    "    data = data[0][\"interval\"][\"intervalResults\"]\n",
    "\n",
    "    count += len(data)\n",
    "\n",
    "    clear_output()\n",
    "    display(f\"{pg_index} - {count}\")\n",
    "\n",
    "    df = pd.DataFrame(data)\n",
    "\n",
    "    if df_final is None:\n",
    "        df_final = df\n",
    "    else:\n",
    "        df_final = pd.concat([df_final, df])\n",
    "\n",
    "    pg_index += 1"
   ]
  },
  {
   "cell_type": "code",
   "execution_count": null,
   "metadata": {},
   "outputs": [],
   "source": [
    "df_final.reset_index(inplace=True)\n",
    "df_final.head(2)"
   ]
  },
  {
   "cell_type": "code",
   "execution_count": null,
   "metadata": {},
   "outputs": [],
   "source": [
    "df_final[\"full_time\"] = df_final[\"time\"].apply(\n",
    "    lambda row: (\n",
    "        datetime.datetime(1970, 1, 1)\n",
    "        + datetime.timedelta(milliseconds=row[\"timeInMillis\"])\n",
    "    )\n",
    "    .time()\n",
    "    .isoformat(timespec=\"seconds\")\n",
    ")\n",
    "\n",
    "df_final = df_final.drop([\"pace\", \"time\"], axis=1)"
   ]
  },
  {
   "cell_type": "code",
   "execution_count": null,
   "metadata": {},
   "outputs": [],
   "source": [
    "df_final.head(2)"
   ]
  },
  {
   "cell_type": "code",
   "execution_count": null,
   "metadata": {},
   "outputs": [],
   "source": [
    "df_final.to_csv(f'{NAME}_{YEAR}_full.csv')"
   ]
  },
  {
   "cell_type": "code",
   "execution_count": null,
   "metadata": {},
   "outputs": [],
   "source": [
    "df_final[['country','gender','age','full_time']].to_csv(f'{NAME}_{YEAR}.csv')"
   ]
  }
 ],
 "metadata": {
  "kernelspec": {
   "display_name": "webscrapping",
   "language": "python",
   "name": "python3"
  },
  "language_info": {
   "codemirror_mode": {
    "name": "ipython",
    "version": 3
   },
   "file_extension": ".py",
   "mimetype": "text/x-python",
   "name": "python",
   "nbconvert_exporter": "python",
   "pygments_lexer": "ipython3",
   "version": "3.12.0"
  }
 },
 "nbformat": 4,
 "nbformat_minor": 2
}
