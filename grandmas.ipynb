{
 "cells": [
  {
   "cell_type": "code",
   "execution_count": null,
   "metadata": {},
   "outputs": [],
   "source": [
    "import requests\n",
    "import pandas as pd\n",
    "from bs4 import BeautifulSoup\n",
    "from IPython.display import clear_output, display\n",
    "from io import StringIO"
   ]
  },
  {
   "cell_type": "code",
   "execution_count": null,
   "metadata": {},
   "outputs": [],
   "source": [
    "URL_24=\"https://www.mtecresults.com/race/quickResults?raceid=17012&version=107&overall=yes&offset={}&perPage=50\"\n",
    "URL_23=\"https://www.mtecresults.com/race/quickResults?raceid=15218&version=439&overall=yes&offset={}&perPage=50\"\n"
   ]
  },
  {
   "cell_type": "code",
   "execution_count": null,
   "metadata": {},
   "outputs": [],
   "source": [
    "URL = URL_23\n",
    "YEAR = 2023\n",
    "NAME = \"grandmas_\" + str(YEAR)\n"
   ]
  },
  {
   "cell_type": "code",
   "execution_count": null,
   "metadata": {},
   "outputs": [],
   "source": [
    "page_number = 0    \n",
    "res = requests.get(URL.format(page_number ), headers={\"X-Requested-With\":\"XMLHttpRequest\"})\n",
    "page = BeautifulSoup(res.text)\n",
    "tbl=page.find(name='table')\n",
    "pd.read_html(StringIO(str(tbl)))[0]"
   ]
  },
  {
   "cell_type": "code",
   "execution_count": null,
   "metadata": {},
   "outputs": [],
   "source": [
    "df_final = None\n",
    "\n",
    "page_number = 0\n",
    "bib_acum = 0\n",
    "\n",
    "while True:\n",
    "    clear_output()\n",
    "    display(f\"Retrieving page {page_number}\")\n",
    "\n",
    "\n",
    "    res = requests.get(URL.format(bib_acum ), headers={\"X-Requested-With\":\"XMLHttpRequest\"})\n",
    "    page = BeautifulSoup(res.text)\n",
    "    tbl = page.select(\"table.table\")\n",
    "    if not tbl:\n",
    "        break\n",
    "    df=pd.read_html(StringIO(str(tbl)))[0]\n",
    "\n",
    "    if df.shape[0]==0:\n",
    "        break\n",
    "\n",
    "    if df_final is None:\n",
    "        df_final = df\n",
    "    else:\n",
    "        df_final = pd.concat([df_final, df])\n",
    "\n",
    "    page_number += 1\n",
    "    bib_acum+=df.shape[0]\n",
    "\n",
    "df_final.shape"
   ]
  },
  {
   "cell_type": "code",
   "execution_count": null,
   "metadata": {},
   "outputs": [],
   "source": [
    "df_final.Bib.nunique()"
   ]
  },
  {
   "cell_type": "code",
   "execution_count": null,
   "metadata": {},
   "outputs": [],
   "source": [
    "df_final.reset_index(drop=True, inplace=True)"
   ]
  },
  {
   "cell_type": "code",
   "execution_count": null,
   "metadata": {},
   "outputs": [],
   "source": [
    "df_final.head()"
   ]
  },
  {
   "cell_type": "code",
   "execution_count": null,
   "metadata": {},
   "outputs": [],
   "source": [
    "\n",
    "df_final.to_csv(NAME + '_full.csv')\n",
    "df_final[['Sex','Age','Time']].to_csv(NAME + '.csv')"
   ]
  }
 ],
 "metadata": {
  "kernelspec": {
   "display_name": "webscrapping",
   "language": "python",
   "name": "python3"
  },
  "language_info": {
   "codemirror_mode": {
    "name": "ipython",
    "version": 3
   },
   "file_extension": ".py",
   "mimetype": "text/x-python",
   "name": "python",
   "nbconvert_exporter": "python",
   "pygments_lexer": "ipython3",
   "version": "3.12.0"
  }
 },
 "nbformat": 4,
 "nbformat_minor": 2
}
