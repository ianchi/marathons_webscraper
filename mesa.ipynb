{
 "cells": [
  {
   "cell_type": "code",
   "execution_count": null,
   "metadata": {},
   "outputs": [],
   "source": [
    "import requests\n",
    "import pandas as pd\n",
    "from bs4 import BeautifulSoup\n",
    "from IPython.display import clear_output, display\n",
    "from io import StringIO"
   ]
  },
  {
   "cell_type": "code",
   "execution_count": null,
   "metadata": {},
   "outputs": [],
   "source": [
    "URL_2024=\"https://mesamarathon.com/results?sort=&race=166942&date=&event=Marathon&gender=&division=&search=&loc_167737=&page_167737=1&size_167737=100000\"\n",
    "URL_2023=\"https://mesamarathon.com/results?sort=&race=166795&date=&event=Marathon&gender=&division=&search=&loc_167177=&page_167177=2&size_167177=100000\""
   ]
  },
  {
   "cell_type": "code",
   "execution_count": null,
   "metadata": {},
   "outputs": [],
   "source": [
    "URL = URL_2023\n",
    "YEAR = 2023\n",
    "NAME = \"mesa_\" + str(YEAR)\n"
   ]
  },
  {
   "cell_type": "code",
   "execution_count": null,
   "metadata": {},
   "outputs": [],
   "source": [
    "page_number = 0    \n",
    "session = requests.Session()\n",
    "res = session.get(URL)\n",
    "page = BeautifulSoup(res.text)\n",
    "#page.find('div',id='race-results-table')"
   ]
  },
  {
   "cell_type": "code",
   "execution_count": null,
   "metadata": {},
   "outputs": [],
   "source": [
    "tbl=page.select(\"table.tabular#roster\")\n",
    "\n",
    "df=pd.read_html(StringIO(str(tbl)))[0]\n",
    "df"
   ]
  },
  {
   "cell_type": "code",
   "execution_count": null,
   "metadata": {},
   "outputs": [],
   "source": [
    "df_final=df[df['Place Overall'].notna() & (df['Place Overall']!='DNF')]"
   ]
  },
  {
   "cell_type": "code",
   "execution_count": null,
   "metadata": {},
   "outputs": [],
   "source": [
    "df_final.head()"
   ]
  },
  {
   "cell_type": "code",
   "execution_count": null,
   "metadata": {},
   "outputs": [],
   "source": [
    "\n",
    "df_final.to_csv(NAME + '_full.csv')\n",
    "df_final[['Gender','Age','Chip Time']].to_csv(NAME + '.csv')"
   ]
  }
 ],
 "metadata": {
  "kernelspec": {
   "display_name": "webscrapping",
   "language": "python",
   "name": "python3"
  },
  "language_info": {
   "codemirror_mode": {
    "name": "ipython",
    "version": 3
   },
   "file_extension": ".py",
   "mimetype": "text/x-python",
   "name": "python",
   "nbconvert_exporter": "python",
   "pygments_lexer": "ipython3",
   "version": "3.12.0"
  }
 },
 "nbformat": 4,
 "nbformat_minor": 2
}
