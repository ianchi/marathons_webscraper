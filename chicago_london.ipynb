{
 "cells": [
  {
   "cell_type": "code",
   "execution_count": null,
   "metadata": {},
   "outputs": [],
   "source": [
    "import requests\n",
    "import pandas as pd\n",
    "from bs4 import BeautifulSoup\n",
    "from IPython.display import clear_output, display"
   ]
  },
  {
   "cell_type": "code",
   "execution_count": null,
   "metadata": {},
   "outputs": [],
   "source": [
    "LONDON_URL = \"https://results.tcslondonmarathon.com/{}/?page={}&event=MAS&num_results=1000&pid=list&pidp=start&search%5Bsex%5D={}&search%5Bage_class%5D=%25\"\n",
    "CHICAGO_URL =  \"https://results.chicagomarathon.com/{}/?page={}&event=MAR&num_results=1000&pid=list&pidp=start&search%5Bsex%5D={}&search%5Bage_class%5D=%25\"\n",
    "CHICAGO_22_URL = \"https://chicago-history.r.mikatiming.com/{}/?page={}&event=MAR_9TGG9638119&lang=EN_CAP&pid=list&pidp=start&search%5Bsex%5D={}&search%5Bage_class%5D=%25\""
   ]
  },
  {
   "cell_type": "code",
   "execution_count": null,
   "metadata": {},
   "outputs": [],
   "source": [
    "URL = LONDON_URL\n",
    "YEAR = 2023\n",
    "NAME = \"london_\" + str(YEAR)\n",
    "#SEX = ['M', 'W'] \n",
    "SEX = ['M', 'W', 'D'] \n"
   ]
  },
  {
   "cell_type": "code",
   "execution_count": null,
   "metadata": {},
   "outputs": [],
   "source": [
    "df_final = None\n",
    "\n",
    "for sex in SEX:\n",
    "    page_number = 1\n",
    "\n",
    "    while True:\n",
    "        clear_output()\n",
    "        display(f\"Retrieving page {page_number} for sex {sex}\")\n",
    "\n",
    "        res = requests.get(URL.format(YEAR, page_number, sex))\n",
    "        page = BeautifulSoup(res.text)\n",
    "\n",
    "        rows = page.find_all(\"li\", class_=\"row\")\n",
    "\n",
    "        if len(rows) == 2 and rows[1].find(\"div\", class_=\"alert\"):\n",
    "            break\n",
    "\n",
    "        rows2 = [r.find_all(\"div\", class_=\"list-field\") for r in rows]\n",
    "\n",
    "        df = pd.DataFrame([[d.text for d in data] for data in rows2])\n",
    "        df.insert(0, \"Sex\", sex)\n",
    "\n",
    "        if df_final is None:\n",
    "            df_final = df\n",
    "        else:\n",
    "            df_final = pd.concat([df_final, df])\n",
    "\n",
    "        page_number += 1\n",
    "\n",
    "df_final.shape"
   ]
  },
  {
   "cell_type": "code",
   "execution_count": null,
   "metadata": {},
   "outputs": [],
   "source": [
    "df_final.head(4)"
   ]
  },
  {
   "cell_type": "code",
   "execution_count": null,
   "metadata": {},
   "outputs": [],
   "source": [
    "if URL==LONDON_URL:\n",
    "    cols = ['sex', 'place_overall', 'place_gender', 'place_category', 'club', 'bib', 'age', 'xx1', 'half_time', 'time','xx2','xx3']\n",
    "elif URL==CHICAGO_22_URL:\n",
    "    cols = ['sex', 'place_overall', 'place_gender', 'bib', 'age', 'time', 'xx']\n",
    "df_final.columns = cols\n",
    "df_final.head(3)"
   ]
  },
  {
   "cell_type": "code",
   "execution_count": null,
   "metadata": {},
   "outputs": [],
   "source": [
    "\n",
    "df_final['age'] = df_final['age'].str.replace('Division','')\n",
    "df_final['age'] = df_final['age'].str.replace('Category','')\n",
    "df_final['bib'] = df_final['bib'].str.replace('BIB','') \n",
    "df_final['bib'] = df_final['bib'].str.replace('Runner Number','') \n",
    "df_final['time'] = df_final['time'].str.replace('Finish','')\n",
    "\n",
    "if 'half_time' in df_final.columns:\n",
    "    df_final['half_time'] = df_final['half_time'].str.replace('HALF','')\n",
    "    df_final['half_time'] = df_final['half_time'].str.replace('Half','')\n",
    "df_final.head(3)"
   ]
  },
  {
   "cell_type": "code",
   "execution_count": null,
   "metadata": {},
   "outputs": [],
   "source": [
    "df_final.reset_index(drop=True, inplace=True)\n",
    "df_final=df_final[(df_final['age']!='BIBBIB') & (df_final['age']!='Runner NumberRunner Number')]\n",
    "df_final.reset_index(drop=True, inplace=True)"
   ]
  },
  {
   "cell_type": "code",
   "execution_count": null,
   "metadata": {},
   "outputs": [],
   "source": [
    "\n",
    "df_final.to_csv(NAME + '_full.csv')\n",
    "df_final[['sex','age','time']].to_csv(NAME + '.csv')"
   ]
  },
  {
   "cell_type": "code",
   "execution_count": null,
   "metadata": {},
   "outputs": [],
   "source": [
    "df_final.pivot_table(index='age', columns='sex', aggfunc='size', fill_value=0)"
   ]
  }
 ],
 "metadata": {
  "kernelspec": {
   "display_name": "webscrapping",
   "language": "python",
   "name": "python3"
  },
  "language_info": {
   "codemirror_mode": {
    "name": "ipython",
    "version": 3
   },
   "file_extension": ".py",
   "mimetype": "text/x-python",
   "name": "python",
   "nbconvert_exporter": "python",
   "pygments_lexer": "ipython3",
   "version": "3.12.0"
  }
 },
 "nbformat": 4,
 "nbformat_minor": 2
}
