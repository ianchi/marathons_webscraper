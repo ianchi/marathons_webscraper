{
 "cells": [
  {
   "cell_type": "code",
   "execution_count": null,
   "metadata": {},
   "outputs": [],
   "source": [
    "import requests\n",
    "import pandas as pd\n",
    "from bs4 import BeautifulSoup\n",
    "from IPython.display import clear_output, display\n",
    "from io import StringIO"
   ]
  },
  {
   "cell_type": "code",
   "execution_count": null,
   "metadata": {},
   "outputs": [],
   "source": [
    "URL_BASE_23=\"https://onlineraceresults.com/race/view_race.php?race_id=76939&re_NO=e.g.%2C+1946&re_FN=e.g.%2C+Joe&re_LN=e.g.%2C+Desch&re_CITY=&re_STATE=&re_DIVISION=&submit_action=select_result&race_id=76939\"\n",
    "URL_2023=\"https://onlineraceresults.com/race/view_race.php?race_id=76939&relist_record_type=result&lower_bound={}&upper_bound={}&use_previous_sql=1&group_by=default\"\n",
    "URL_BASE_22=\"https://onlineraceresults.com/race/view_race.php?race_id=74868&submit_action=select_result&order_by=default&group_by=default#results\"\n",
    "URL_2022=\"https://onlineraceresults.com/race/view_race.php?race_id=74868&relist_record_type=result&lower_bound={}&upper_bound={}&use_previous_sql=1&group_by=default\""
   ]
  },
  {
   "cell_type": "code",
   "execution_count": null,
   "metadata": {},
   "outputs": [],
   "source": [
    "URL = URL_2022\n",
    "URL_BASE= URL_BASE_22\n",
    "YEAR = 2022\n",
    "NAME = \"indianapolis_\" + str(YEAR)\n"
   ]
  },
  {
   "cell_type": "code",
   "execution_count": null,
   "metadata": {},
   "outputs": [],
   "source": [
    "page_number = 0    \n",
    "session = requests.Session()\n",
    "session.get(URL_BASE)\n",
    "res = session.get(URL.format(page_number * 1000, (page_number +1)*1000 ))\n",
    "page = BeautifulSoup(res.text)\n",
    "#page.find('div',id='race-results-table')"
   ]
  },
  {
   "cell_type": "code",
   "execution_count": null,
   "metadata": {},
   "outputs": [],
   "source": [
    "tbl=page.select(\"div#race-results-table table\")\n",
    "\n",
    "df=pd.read_html(StringIO(str(tbl)))[0]\n",
    "df"
   ]
  },
  {
   "cell_type": "code",
   "execution_count": null,
   "metadata": {},
   "outputs": [],
   "source": [
    "df_final = None\n",
    "\n",
    "session = requests.Session()\n",
    "session.get(URL_BASE)\n",
    "page_number = 0\n",
    "\n",
    "while True:\n",
    "    clear_output()\n",
    "    display(f\"Retrieving page {page_number}\")\n",
    "\n",
    "\n",
    "    res = session.get(URL.format(page_number * 1000, (page_number +1)*1000 ))\n",
    "    page = BeautifulSoup(res.text)\n",
    "    tbl = page.select(\"div#race-results-table table\")\n",
    "    if not tbl:\n",
    "        break\n",
    "    df=pd.read_html(StringIO(str(tbl)))[0]\n",
    "\n",
    "    if df_final is None:\n",
    "        df_final = df\n",
    "    else:\n",
    "        df_final = pd.concat([df_final, df])\n",
    "\n",
    "    page_number += 1\n",
    "\n",
    "df_final.shape"
   ]
  },
  {
   "cell_type": "code",
   "execution_count": null,
   "metadata": {},
   "outputs": [],
   "source": [
    "df_final.reset_index(drop=True, inplace=True)"
   ]
  },
  {
   "cell_type": "code",
   "execution_count": null,
   "metadata": {},
   "outputs": [],
   "source": [
    "df_final = df_final[df_final.OVERALL!=\"OVERALL\"]"
   ]
  },
  {
   "cell_type": "code",
   "execution_count": null,
   "metadata": {},
   "outputs": [],
   "source": [
    "df_final.head()"
   ]
  },
  {
   "cell_type": "code",
   "execution_count": null,
   "metadata": {},
   "outputs": [],
   "source": [
    "df_final['Sex']=df_final.DIVISION.str[:1]"
   ]
  },
  {
   "cell_type": "code",
   "execution_count": null,
   "metadata": {},
   "outputs": [],
   "source": [
    "df_final['Age']=df_final.DIVISION.str[1:]"
   ]
  },
  {
   "cell_type": "code",
   "execution_count": null,
   "metadata": {},
   "outputs": [],
   "source": [
    "df_final['Age'].replace('LITE', 30, inplace=True)"
   ]
  },
  {
   "cell_type": "code",
   "execution_count": null,
   "metadata": {},
   "outputs": [],
   "source": [
    "\n",
    "df_final.to_csv(NAME + '_full.csv')\n",
    "df_final[['Sex','Age','TIME']].to_csv(NAME + '.csv')"
   ]
  },
  {
   "cell_type": "code",
   "execution_count": null,
   "metadata": {},
   "outputs": [],
   "source": [
    "df_final.DIVISION.value_counts()"
   ]
  },
  {
   "cell_type": "code",
   "execution_count": null,
   "metadata": {},
   "outputs": [],
   "source": [
    "df_final.pivot_table(index='DIVISION', columns='Gender', aggfunc='size', fill_value=0)"
   ]
  }
 ],
 "metadata": {
  "kernelspec": {
   "display_name": "webscrapping",
   "language": "python",
   "name": "python3"
  },
  "language_info": {
   "codemirror_mode": {
    "name": "ipython",
    "version": 3
   },
   "file_extension": ".py",
   "mimetype": "text/x-python",
   "name": "python",
   "nbconvert_exporter": "python",
   "pygments_lexer": "ipython3",
   "version": "3.12.0"
  }
 },
 "nbformat": 4,
 "nbformat_minor": 2
}
