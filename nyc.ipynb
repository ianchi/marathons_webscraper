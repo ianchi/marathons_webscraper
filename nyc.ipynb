{
 "cells": [
  {
   "cell_type": "markdown",
   "metadata": {},
   "source": [
    "````\n",
    "fetch(\"https://rmsprodapi.nyrr.org/api/v2/runners/finishers-filter\", {\n",
    "  \"headers\": {\n",
    "    \"accept\": \"application/json, text/plain, */*\",\n",
    "    \"accept-language\": \"es,en;q=0.9,en-US;q=0.8,pt;q=0.7\",\n",
    "    \"cache-control\": \"no-cache\",\n",
    "    \"content-type\": \"application/json;charset=UTF-8\",\n",
    "    \"pragma\": \"no-cache\",\n",
    "    \"sec-ch-ua\": \"\\\"Google Chrome\\\";v=\\\"125\\\", \\\"Chromium\\\";v=\\\"125\\\", \\\"Not.A/Brand\\\";v=\\\"24\\\"\",\n",
    "    \"sec-ch-ua-mobile\": \"?0\",\n",
    "    \"sec-ch-ua-platform\": \"\\\"Windows\\\"\",\n",
    "    \"sec-fetch-dest\": \"empty\",\n",
    "    \"sec-fetch-mode\": \"cors\",\n",
    "    \"sec-fetch-site\": \"same-site\"\n",
    "  },\n",
    "  \"referrer\": \"https://results.nyrr.org/\",\n",
    "  \"referrerPolicy\": \"strict-origin-when-cross-origin\",\n",
    "  \"body\": \"{\\\"eventCode\\\":\\\"M2023\\\",\\\"searchString\\\":None,\\\"countryCode\\\":None,\\\"stateProvince\\\":None,\\\"city\\\":None,\\\"teamName\\\":None,\\\"teamCode\\\":None,\\\"gender\\\":None,\\\"ageFrom\\\":None,\\\"ageTo\\\":None,\\\"overallPlaceFrom\\\":None,\\\"overallPlaceTo\\\":None,\\\"paceFrom\\\":None,\\\"paceTo\\\":None,\\\"overallTimeFrom\\\":None,\\\"overallTimeTo\\\":None,\\\"gunTimeFrom\\\":None,\\\"gunTimeTo\\\":None,\\\"ageGradedTimeFrom\\\":None,\\\"ageGradedTimeTo\\\":None,\\\"ageGradedPlaceFrom\\\":None,\\\"ageGradedPlaceTo\\\":None,\\\"ageGradedPerformanceFrom\\\":None,\\\"ageGradedPerformanceTo\\\":None,\\\"handicap\\\":None,\\\"sortColumn\\\":\\\"overallTime\\\",\\\"sortDescending\\\":False,\\\"pageIndex\\\":2,\\\"pageSize\\\":51}\",\n",
    "  \"method\": \"POST\",\n",
    "  \"mode\": \"cors\",\n",
    "  \"credentials\": \"omit\"\n",
    "}); ;\n",
    "```\n",
    "\n"
   ]
  },
  {
   "cell_type": "code",
   "execution_count": null,
   "metadata": {},
   "outputs": [],
   "source": [
    "eval(\"{\\\"eventCode\\\":\\\"M2023\\\",\\\"searchString\\\":None,\\\"countryCode\\\":None,\\\"stateProvince\\\":None,\\\"city\\\":None,\\\"teamName\\\":None,\\\"teamCode\\\":None,\\\"gender\\\":None,\\\"ageFrom\\\":None,\\\"ageTo\\\":None,\\\"overallPlaceFrom\\\":None,\\\"overallPlaceTo\\\":None,\\\"paceFrom\\\":None,\\\"paceTo\\\":None,\\\"overallTimeFrom\\\":None,\\\"overallTimeTo\\\":None,\\\"gunTimeFrom\\\":None,\\\"gunTimeTo\\\":None,\\\"ageGradedTimeFrom\\\":None,\\\"ageGradedTimeTo\\\":None,\\\"ageGradedPlaceFrom\\\":None,\\\"ageGradedPlaceTo\\\":None,\\\"ageGradedPerformanceFrom\\\":None,\\\"ageGradedPerformanceTo\\\":None,\\\"handicap\\\":None,\\\"sortColumn\\\":\\\"overallTime\\\",\\\"sortDescending\\\":False,\\\"pageIndex\\\":2,\\\"pageSize\\\":51}\")"
   ]
  },
  {
   "cell_type": "code",
   "execution_count": null,
   "metadata": {},
   "outputs": [],
   "source": [
    "import requests\n",
    "import pandas as pd\n",
    "from IPython.display import clear_output, display"
   ]
  },
  {
   "cell_type": "code",
   "execution_count": null,
   "metadata": {},
   "outputs": [],
   "source": [
    "URL = \"https://rmsprodapi.nyrr.org/api/v2/runners/finishers-filter\"\n",
    "\n",
    "qry = {\n",
    "    \"eventCode\": \"M2023\",\n",
    "    \"sortColumn\": \"overallTime\",\n",
    "    \"sortDescending\": False,\n",
    "    \"pageIndex\": 1,\n",
    "    \"pageSize\": 100,\n",
    "\n",
    "    'searchString': None,\n",
    "    'overallPlaceFrom': '0',\n",
    "    \"handicap\": None,\n",
    "}\n",
    "\n",
    "\n",
    "headers={\"content-type\": \"application/json;charset=UTF-8\", \"referer\": \"https://results.nyrr.org/\",}"
   ]
  },
  {
   "cell_type": "code",
   "execution_count": null,
   "metadata": {},
   "outputs": [],
   "source": [
    "pg_index=1\n",
    "\n",
    "count=0\n",
    "\n",
    "df_final=None\n",
    "\n",
    "while True:\n",
    "    qry['overallPlaceFrom']=str(count+1)\n",
    "    res = requests.post(URL, json=qry, headers=headers)\n",
    "    data=res.json()\n",
    "    \n",
    "    if 'items' not in data or len(data['items'])==0:\n",
    "        break\n",
    "    count+=len(data['items'])\n",
    "    \n",
    "    clear_output()\n",
    "    display(f\"{pg_index} - {count}\")\n",
    "\n",
    "    df=pd.DataFrame(data['items'])\n",
    "\n",
    "    if df_final is None:\n",
    "        df_final=df\n",
    "    else:\n",
    "        df_final=pd.concat([df_final, df])\n",
    "\n",
    "    pg_index+=1\n",
    "\n"
   ]
  },
  {
   "cell_type": "code",
   "execution_count": null,
   "metadata": {},
   "outputs": [],
   "source": [
    "df_final.reset_index(inplace=True)"
   ]
  },
  {
   "cell_type": "code",
   "execution_count": null,
   "metadata": {},
   "outputs": [],
   "source": [
    "#res = requests.post(URL, json=qry, headers=headers)\n",
    "df_final.to_csv(\"nyc_full.csv\")"
   ]
  },
  {
   "cell_type": "code",
   "execution_count": null,
   "metadata": {},
   "outputs": [],
   "source": [
    "df_final[['countryCode','gender','age','overallTime']].to_csv(\"nyc.csv\")"
   ]
  }
 ],
 "metadata": {
  "kernelspec": {
   "display_name": "webscrapping",
   "language": "python",
   "name": "python3"
  },
  "language_info": {
   "codemirror_mode": {
    "name": "ipython",
    "version": 3
   },
   "file_extension": ".py",
   "mimetype": "text/x-python",
   "name": "python",
   "nbconvert_exporter": "python",
   "pygments_lexer": "ipython3",
   "version": "3.12.0"
  }
 },
 "nbformat": 4,
 "nbformat_minor": 2
}
