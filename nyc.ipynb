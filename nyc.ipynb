{
 "cells": [
  {
   "cell_type": "code",
   "execution_count": null,
   "metadata": {},
   "outputs": [],
   "source": [
    "import requests\n",
    "import pandas as pd\n",
    "from IPython.display import clear_output, display"
   ]
  },
  {
   "cell_type": "code",
   "execution_count": null,
   "metadata": {},
   "outputs": [],
   "source": [
    "URL = \"https://rmsprodapi.nyrr.org/api/v2/runners/finishers-filter\"\n",
    "\n",
    "YEAR = 2022\n",
    "qry = {\n",
    "    \"eventCode\": f\"M{YEAR}\",\n",
    "    \"sortColumn\": \"overallTime\",\n",
    "    \"sortDescending\": False,\n",
    "    \"pageIndex\": 1,\n",
    "    \"pageSize\": 100,\n",
    "\n",
    "    'searchString': None,\n",
    "    'overallPlaceFrom': '0',\n",
    "    \"handicap\": None,\n",
    "}\n",
    "\n",
    "\n",
    "headers={\"content-type\": \"application/json;charset=UTF-8\", \"referer\": \"https://results.nyrr.org/\",}"
   ]
  },
  {
   "cell_type": "code",
   "execution_count": null,
   "metadata": {},
   "outputs": [],
   "source": [
    "pg_index=1\n",
    "\n",
    "count=0\n",
    "\n",
    "df_final=None\n",
    "\n",
    "while True:\n",
    "    qry['overallPlaceFrom']=str(count+1)\n",
    "    res = requests.post(URL, json=qry, headers=headers)\n",
    "    data=res.json()\n",
    "    \n",
    "    if 'items' not in data or len(data['items'])==0:\n",
    "        break\n",
    "    count+=len(data['items'])\n",
    "    \n",
    "    clear_output()\n",
    "    display(f\"{pg_index} - {count}\")\n",
    "\n",
    "    df=pd.DataFrame(data['items'])\n",
    "\n",
    "    if df_final is None:\n",
    "        df_final=df\n",
    "    else:\n",
    "        df_final=pd.concat([df_final, df])\n",
    "\n",
    "    pg_index+=1\n",
    "\n"
   ]
  },
  {
   "cell_type": "code",
   "execution_count": null,
   "metadata": {},
   "outputs": [],
   "source": [
    "df_final.reset_index(inplace=True)"
   ]
  },
  {
   "cell_type": "code",
   "execution_count": null,
   "metadata": {},
   "outputs": [],
   "source": [
    "#res = requests.post(URL, json=qry, headers=headers)\n",
    "df_final.to_csv(f\"nyc_{YEAR}_full.csv\")"
   ]
  },
  {
   "cell_type": "code",
   "execution_count": null,
   "metadata": {},
   "outputs": [],
   "source": [
    "df_final[['countryCode','gender','age','overallTime']].to_csv(f\"nyc_{YEAR}.csv\")"
   ]
  }
 ],
 "metadata": {
  "kernelspec": {
   "display_name": "webscrapping",
   "language": "python",
   "name": "python3"
  },
  "language_info": {
   "codemirror_mode": {
    "name": "ipython",
    "version": 3
   },
   "file_extension": ".py",
   "mimetype": "text/x-python",
   "name": "python",
   "nbconvert_exporter": "python",
   "pygments_lexer": "ipython3",
   "version": "3.12.0"
  }
 },
 "nbformat": 4,
 "nbformat_minor": 2
}
