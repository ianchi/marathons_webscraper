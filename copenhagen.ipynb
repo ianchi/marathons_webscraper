{
 "cells": [
  {
   "cell_type": "code",
   "execution_count": null,
   "metadata": {},
   "outputs": [],
   "source": [
    "import requests\n",
    "import pandas as pd\n",
    "from IPython.display import clear_output, display\n",
    "import datetime"
   ]
  },
  {
   "cell_type": "code",
   "execution_count": null,
   "metadata": {},
   "outputs": [],
   "source": [
    "\n",
    "URL_2024 = \"https://resultater.copenhagenmarathon.dk/api/leaderboard?&offset={}&limit={}&simple=true&eventid=6087\"\n",
    "URL_2023 = \"https://resultater.copenhagenmarathon.dk/api/leaderboard?&offset={}&limit={}&simple=true&eventid=5715\"\n",
    "\n",
    "URL=URL_2023\n",
    "YEAR=2023\n",
    "NAME='copenhagen'"
   ]
  },
  {
   "cell_type": "code",
   "execution_count": null,
   "metadata": {},
   "outputs": [],
   "source": [
    "session  = requests.session()\n",
    "session.get(\"https://resultater.copenhagenmarathon.dk/runner/category/all?limit=10&offset=100\")"
   ]
  },
  {
   "cell_type": "code",
   "execution_count": null,
   "metadata": {},
   "outputs": [],
   "source": [
    "URL.format(0, 110)"
   ]
  },
  {
   "cell_type": "code",
   "execution_count": null,
   "metadata": {},
   "outputs": [],
   "source": [
    "res = session.get(URL.format(0, 1000), headers={\"Referer\":\"https://resultater.copenhagenmarathon.dk/runner/category/all?limit=10&offset=100\"})\n",
    "data = res.json()"
   ]
  },
  {
   "cell_type": "code",
   "execution_count": null,
   "metadata": {},
   "outputs": [],
   "source": [
    "df = pd.DataFrame(data)\n",
    "df"
   ]
  },
  {
   "cell_type": "code",
   "execution_count": null,
   "metadata": {},
   "outputs": [],
   "source": [
    "pg_index = 1\n",
    "\n",
    "count = 0\n",
    "\n",
    "df_final = None\n",
    "\n",
    "while True:\n",
    "    res = requests.get(URL.format(count , 1000))\n",
    "    data = res.json()\n",
    "\n",
    "    if len(data) == 0:\n",
    "        break\n",
    "    \n",
    "\n",
    "    count += len(data)\n",
    "\n",
    "    clear_output()\n",
    "    display(f\"{pg_index} - {count}\")\n",
    "\n",
    "    df = pd.DataFrame(data)\n",
    "\n",
    "    if df_final is None:\n",
    "        df_final = df\n",
    "    else:\n",
    "        df_final = pd.concat([df_final, df])\n",
    "\n",
    "    pg_index += 1"
   ]
  },
  {
   "cell_type": "code",
   "execution_count": null,
   "metadata": {},
   "outputs": [],
   "source": [
    "df_final.reset_index(inplace=True)\n",
    "df_final.head(2)"
   ]
  },
  {
   "cell_type": "code",
   "execution_count": null,
   "metadata": {},
   "outputs": [],
   "source": [
    "df_final.to_csv(f\"{NAME}_{YEAR}_full.csv\")"
   ]
  },
  {
   "cell_type": "code",
   "execution_count": null,
   "metadata": {},
   "outputs": [],
   "source": [
    "df_final[df_final.state==\"FINISHED\"][['Category','timingPointTime','rankTotal']].to_csv(f\"{NAME}_{YEAR}.csv\")"
   ]
  },
  {
   "cell_type": "code",
   "execution_count": null,
   "metadata": {},
   "outputs": [],
   "source": [
    "df_final[df_final.state==\"FINISHED\"].Category.value_counts(dropna=False)"
   ]
  }
 ],
 "metadata": {
  "kernelspec": {
   "display_name": "webscrapping",
   "language": "python",
   "name": "python3"
  },
  "language_info": {
   "codemirror_mode": {
    "name": "ipython",
    "version": 3
   },
   "file_extension": ".py",
   "mimetype": "text/x-python",
   "name": "python",
   "nbconvert_exporter": "python",
   "pygments_lexer": "ipython3",
   "version": "3.12.0"
  }
 },
 "nbformat": 4,
 "nbformat_minor": 2
}
