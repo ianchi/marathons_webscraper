{
 "cells": [
  {
   "cell_type": "code",
   "execution_count": null,
   "metadata": {},
   "outputs": [],
   "source": [
    "import requests\n",
    "import pandas as pd\n",
    "from IPython.display import clear_output, display\n",
    "from bs4 import BeautifulSoup\n",
    "import re"
   ]
  },
  {
   "cell_type": "code",
   "execution_count": null,
   "metadata": {},
   "outputs": [],
   "source": [
    "BASE_URL = \"https://www.timingproductions.com/results-site/houston\"\n",
    "\n",
    "URL = \"https://e.timingproductions.com/dp/26aa600036849de1dcdc4f2b886a?rnd=1716250877204\"\n"
   ]
  },
  {
   "cell_type": "code",
   "execution_count": null,
   "metadata": {},
   "outputs": [],
   "source": [
    "from selenium import webdriver\n",
    "from selenium.webdriver.chrome.options import Options\n",
    "from selenium.webdriver.chrome.service import Service\n",
    "from selenium.webdriver.support import expected_conditions as EC\n",
    "from selenium.webdriver.support.ui import WebDriverWait as Wait\n",
    "from selenium.webdriver.common.by import By\n",
    "from selenium.webdriver.common.keys import Keys\n",
    "from selenium.common.exceptions import NoSuchElementException\n",
    "from webdriver_manager.chrome import ChromeDriverManager"
   ]
  },
  {
   "cell_type": "code",
   "execution_count": null,
   "metadata": {},
   "outputs": [],
   "source": [
    "options = Options()\n",
    "options.headless = True\n",
    "manager = ChromeDriverManager()\n",
    "driver = webdriver.Chrome(service=Service(manager.install()), options=options)"
   ]
  },
  {
   "cell_type": "code",
   "execution_count": null,
   "metadata": {},
   "outputs": [],
   "source": [
    "driver.get(BASE_URL)"
   ]
  },
  {
   "cell_type": "code",
   "execution_count": null,
   "metadata": {},
   "outputs": [],
   "source": [
    "el=driver.find_element(By.NAME, \"Value2_1\")\n",
    "el.click()\n",
    "#el.send_keys(Keys.DOWN) # previous year\n",
    "el.send_keys(Keys.ENTER)"
   ]
  },
  {
   "cell_type": "code",
   "execution_count": null,
   "metadata": {},
   "outputs": [],
   "source": [
    "el=driver.find_element(By.NAME, \"Value3_1\")\n",
    "el.click()\n",
    "el.send_keys('M')\n",
    "el.send_keys(Keys.ENTER)"
   ]
  },
  {
   "cell_type": "code",
   "execution_count": null,
   "metadata": {},
   "outputs": [],
   "source": [
    "el=driver.find_element(By.NAME, \"Value4_1\")\n",
    "el.click()\n",
    "el.send_keys('R')\n",
    "el.send_keys(Keys.ENTER)"
   ]
  },
  {
   "cell_type": "code",
   "execution_count": null,
   "metadata": {},
   "outputs": [],
   "source": [
    "el=driver.find_element(By.NAME, \"searchID\")\n",
    "el.click()"
   ]
  },
  {
   "cell_type": "code",
   "execution_count": null,
   "metadata": {},
   "outputs": [],
   "source": [
    "\n",
    "el=Wait(driver, 20).until(EC.presence_of_element_located((By.CSS_SELECTOR,f\"input.cbResultSetJumpToTextField\")))\n",
    "\n",
    "total_pg = int(re.match(r'.*\\sof\\s(\\d+)\\s*',el.get_attribute('title'))[1])\n",
    "total_pg"
   ]
  },
  {
   "cell_type": "code",
   "execution_count": null,
   "metadata": {},
   "outputs": [],
   "source": [
    "df_final = None\n",
    "\n",
    "for page_nbr in range(1,total_pg+1):\n",
    "\n",
    "    Wait(driver, 20).until(EC.presence_of_element_located((By.CSS_SELECTOR,f\"input.cbResultSetJumpToTextField[value='{page_nbr}'\")))\n",
    "\n",
    "    clear_output()\n",
    "    display(page_nbr)\n",
    "\n",
    "    pg= BeautifulSoup(driver.page_source)\n",
    "    rows=pg.find_all('tr', class_='cbResultSetDataRow')\n",
    "    df=pd.DataFrame([sum([c.text.replace(u'\\xa0',' ').replace('\\n','|').strip().split('|') for c in r.find_all('td')], []) for r in rows])\n",
    "\n",
    "    if df_final is None:\n",
    "        df_final=df\n",
    "    else:\n",
    "        df_final=pd.concat([df_final,df])\n",
    "\n",
    "    try:\n",
    "        btn=driver.find_element(By.CSS_SELECTOR, \"a[data-cb-name='JumpToNext']\" )\n",
    "        btn.click()\n",
    "    except NoSuchElementException:\n",
    "        break\n",
    "\n",
    "    \n",
    "    \n",
    "\n"
   ]
  },
  {
   "cell_type": "code",
   "execution_count": null,
   "metadata": {},
   "outputs": [],
   "source": [
    "df_final.reset_index(inplace=True, drop=True)\n",
    "df_final.columns=[ 'Name', 'sex-age', 'bib', 'race', 'origin', 'status', 'place', 'place_gender', 'place_group', 'time', 'min_mile', 'void1', 'void2']\n",
    "df_final.head(10)"
   ]
  },
  {
   "cell_type": "code",
   "execution_count": null,
   "metadata": {},
   "outputs": [],
   "source": [
    "df_final.status.value_counts()"
   ]
  },
  {
   "cell_type": "code",
   "execution_count": null,
   "metadata": {},
   "outputs": [],
   "source": [
    "driver.close()\n"
   ]
  },
  {
   "cell_type": "code",
   "execution_count": null,
   "metadata": {},
   "outputs": [],
   "source": [
    "df_final['bib']=df_final.bib.str.replace(r'\\s*Bib\\s*','', regex=True)"
   ]
  },
  {
   "cell_type": "code",
   "execution_count": null,
   "metadata": {},
   "outputs": [],
   "source": [
    "df_final[['sex','age']] =df_final['sex-age'].str.split('-', expand=True)\n",
    "df_final['age']=df_final['age'].str.strip()"
   ]
  },
  {
   "cell_type": "code",
   "execution_count": null,
   "metadata": {},
   "outputs": [],
   "source": [
    "df_final.drop(['race','void1', 'void2', 'sex-age'], inplace=True, axis=1)\n",
    "df_final.head(10)"
   ]
  },
  {
   "cell_type": "code",
   "execution_count": null,
   "metadata": {},
   "outputs": [],
   "source": [
    "df_final.to_csv(\"houston_2024_full.csv\")"
   ]
  },
  {
   "cell_type": "code",
   "execution_count": null,
   "metadata": {},
   "outputs": [],
   "source": [
    "df_final[df_final.status==''][['sex','age','time']].to_csv('houston_2024.csv')"
   ]
  }
 ],
 "metadata": {
  "kernelspec": {
   "display_name": "webscrapping",
   "language": "python",
   "name": "python3"
  },
  "language_info": {
   "codemirror_mode": {
    "name": "ipython",
    "version": 3
   },
   "file_extension": ".py",
   "mimetype": "text/x-python",
   "name": "python",
   "nbconvert_exporter": "python",
   "pygments_lexer": "ipython3",
   "version": "3.12.0"
  }
 },
 "nbformat": 4,
 "nbformat_minor": 2
}
