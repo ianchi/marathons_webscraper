{
 "cells": [
  {
   "cell_type": "code",
   "execution_count": null,
   "metadata": {},
   "outputs": [],
   "source": [
    "import requests\n",
    "import pandas as pd\n",
    "from IPython.display import clear_output, display\n",
    "import datetime"
   ]
  },
  {
   "cell_type": "code",
   "execution_count": null,
   "metadata": {},
   "outputs": [],
   "source": [
    "\n",
    "URL_2023 = \"https://eventresults-api.sporthive.com/api/events/7117550207329210624/races/487268/classifications/search?count=50&offset={}\"\n",
    "URL_2022 = \"https://eventresults-api.sporthive.com/api/events/6981282006063051264/races/483567/classifications/search?count=50&offset={}\"\n",
    "\n",
    "\n",
    "URL = URL_2022\n",
    "YEAR=2022\n",
    "NAME=\"amsterdam\""
   ]
  },
  {
   "cell_type": "code",
   "execution_count": null,
   "metadata": {},
   "outputs": [],
   "source": [
    "keys=['bib','name', 'countryCode',  'gender', 'category','chipTime']\n",
    "\n",
    "pg_index=1\n",
    "\n",
    "count=0\n",
    "\n",
    "df_final=None\n",
    "\n",
    "while True:\n",
    "    res = requests.get(URL.format(count), timeout=30)\n",
    "    data=res.json()\n",
    "    \n",
    "    if 'fullClassifications' not in data or len(data['fullClassifications'])==0:\n",
    "        break\n",
    "\n",
    "    records = [ { key: rec['classification'].get(key,'') for key in keys } for rec in data['fullClassifications']]\n",
    "    df=pd.DataFrame(records)\n",
    "    count+=len(records)\n",
    "    \n",
    "    clear_output()\n",
    "    display(f\"{pg_index} - {count}\")\n",
    "\n",
    "\n",
    "    if df_final is None:\n",
    "        df_final=df\n",
    "    else:\n",
    "        df_final=pd.concat([df_final, df])\n",
    "\n",
    "    pg_index+=1\n",
    "\n",
    "\n",
    "df_final.shape"
   ]
  },
  {
   "cell_type": "code",
   "execution_count": null,
   "metadata": {},
   "outputs": [],
   "source": [
    "df_final.reset_index(inplace=True)\n",
    "df_final['age']= df_final.category.str[1:]\n",
    "df_final['sex']=df_final.gender.map({1:'M', 2:'F'})"
   ]
  },
  {
   "cell_type": "code",
   "execution_count": null,
   "metadata": {},
   "outputs": [],
   "source": [
    "df_final.head()"
   ]
  },
  {
   "cell_type": "code",
   "execution_count": null,
   "metadata": {},
   "outputs": [],
   "source": [
    "df_final.to_csv(f\"{NAME}_{YEAR}_full.csv\")\n",
    "df_final[['sex','age','chipTime']].to_csv(f\"{NAME}_{YEAR}.csv\")"
   ]
  },
  {
   "cell_type": "code",
   "execution_count": null,
   "metadata": {},
   "outputs": [],
   "source": [
    "df_final[['age','sex']].groupby('sex', dropna=False).count()"
   ]
  },
  {
   "cell_type": "code",
   "execution_count": null,
   "metadata": {},
   "outputs": [],
   "source": [
    "df_final.gender.value_counts()"
   ]
  }
 ],
 "metadata": {
  "kernelspec": {
   "display_name": "webscrapping",
   "language": "python",
   "name": "python3"
  },
  "language_info": {
   "codemirror_mode": {
    "name": "ipython",
    "version": 3
   },
   "file_extension": ".py",
   "mimetype": "text/x-python",
   "name": "python",
   "nbconvert_exporter": "python",
   "pygments_lexer": "ipython3",
   "version": "3.12.0"
  }
 },
 "nbformat": 4,
 "nbformat_minor": 2
}
